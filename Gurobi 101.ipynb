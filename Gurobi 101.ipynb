{
  "nbformat": 4,
  "nbformat_minor": 0,
  "metadata": {
    "colab": {
      "name": "BAX443-HW1-Yashas.ipynb",
      "provenance": [],
      "collapsed_sections": []
    },
    "kernelspec": {
      "name": "python3",
      "display_name": "Python 3"
    },
    "language_info": {
      "name": "python"
    }
  },
  "cells": [
    {
      "cell_type": "code",
      "execution_count": 180,
      "metadata": {
        "id": "koZQGrezSmsA",
        "colab": {
          "base_uri": "https://localhost:8080/"
        },
        "outputId": "68d905cf-d023-4ca5-c673-15e6c7265184"
      },
      "outputs": [
        {
          "output_type": "stream",
          "name": "stdout",
          "text": [
            "Requirement already satisfied: gurobipy in /usr/local/lib/python3.7/dist-packages (9.5.1)\n"
          ]
        }
      ],
      "source": [
        "%pip install gurobipy"
      ]
    },
    {
      "cell_type": "code",
      "source": [
        "import gurobipy as gp\n",
        "from gurobipy import GRB\n",
        "\n",
        "import numpy as np\n",
        "import matplotlib.pyplot as plt"
      ],
      "metadata": {
        "id": "i53PTFbkTQhI"
      },
      "execution_count": 181,
      "outputs": []
    },
    {
      "cell_type": "code",
      "source": [
        "# The list companies contains the various companies that are trying to advertise\n",
        "companies = ['GEICO', 'Delta', 'TMobile', 'CapitalOne']\n",
        "\n",
        "# The list sections contains the two sections where the ads can be shown\n",
        "sections = ['Sports','National'] #Adding a total section as there are constraints on the total as well\n"
      ],
      "metadata": {
        "id": "4rG_rVkrVEOJ"
      },
      "execution_count": 182,
      "outputs": []
    },
    {
      "cell_type": "code",
      "source": [
        "#Recreating the contracts and CTR table using Python multidict\n",
        "\n",
        "combinations, views, ctr = gp.multidict({\n",
        "            ('GEICO','Sports'):[2000000,0.025],\n",
        "            ('GEICO','National'):[1000000,0.008],\n",
        "            ('Delta','Sports'):[0,.02],\n",
        "            ('Delta','National'):[1000000,0.01],\n",
        "            ('TMobile','Sports'):[1000000,0.01],\n",
        "            ('TMobile','National'):[1000000,0.03],\n",
        "            ('CapitalOne','Sports'):[0,0.015],\n",
        "            ('CapitalOne','National'):[0,0.02]\n",
        "})"
      ],
      "metadata": {
        "id": "W9XuynmUV6Be"
      },
      "execution_count": 183,
      "outputs": []
    },
    {
      "cell_type": "code",
      "source": [
        "# Declare and initialize optimization model\n",
        "m = gp.Model('RAP')"
      ],
      "metadata": {
        "id": "Fz7IyCqsYosb"
      },
      "execution_count": 184,
      "outputs": []
    },
    {
      "cell_type": "code",
      "source": [
        "# Create decision variables for the RAP model\n",
        "x = m.addVars(combinations, name=\"assign\")"
      ],
      "metadata": {
        "id": "R7EsFLhfYcpN"
      },
      "execution_count": 185,
      "outputs": []
    },
    {
      "cell_type": "code",
      "source": [
        "#Creating constraint for maximum possible views for Sports section\n",
        "sports_max_constraint = m.addConstrs((x.sum('*',s) <= 6000000 for s in ['Sports']), name='sports_max')\n",
        "\n",
        "#Creating constraint for maximum possible views for National section\n",
        "national_max_constraint = m.addConstrs((x.sum('*',s) <= 5000000 for s in ['National']), name='national_max')"
      ],
      "metadata": {
        "id": "o6lZkKLvlpgN"
      },
      "execution_count": 186,
      "outputs": []
    },
    {
      "cell_type": "code",
      "source": [
        "#Creating constraint on Views for GEICO in Sports section\n",
        "geico_sports_constraint = m.addConstrs((x.sum(c,s) >= 2000000 for c in ['GEICO'] for s in ['Sports']), name='geico_sports_min')\n",
        "\n",
        "#Creating constraint on Views for GEICO in National section\n",
        "geico_national_constraint = m.addConstrs((x.sum(c,s) >= 1000000 for c in ['GEICO'] for s in ['National']), name='geico_national_min')\n",
        "\n",
        "#Creating constraint on Views for Delta in National section\n",
        "delta_national_constraint = m.addConstrs((x.sum(c,s) >= 1000000 for c in ['Delta'] for s in ['National']), name='delta_national_min')\n",
        "\n",
        "#Creating constraint on Total Views for Delta across both sections\n",
        "delta_total_constraint = m.addConstrs((x.sum(c,'*') >= 2000000 for c in ['Delta']), name='delta_total_min')\n",
        "\n",
        "#Creating constraint on Views for T-Mobile in Sports section\n",
        "tmobile_sports_constraint = m.addConstrs((x.sum(c,s) >= 1000000 for c in ['TMobile'] for s in ['Sports']), name='tmobile_sports_min')\n",
        "\n",
        "#Creating constraint on Views for T-Mobile in National section\n",
        "tmobile_national_constraint = m.addConstrs((x.sum(c,s) >= 1000000 for c in ['TMobile'] for s in ['National']), name='tmobile_national_min')\n",
        "\n",
        "#Creating constraint on Total Views for T-Mobile across both sections\n",
        "tmobile_total_constraint = m.addConstrs((x.sum(c,'*') >= 3000000 for c in ['TMobile']), name='tmobile_total_min')\n",
        "\n",
        "#Creating constraint on Total Views for Capital One across both sections\n",
        "capitalone_total_constraint = m.addConstrs((x.sum(c,'*') >= 2000000 for c in ['CapitalOne']), name='capitalone_total_min')\n",
        "\n",
        "#Adding constraint that all the values should be >= 0\n",
        "positive_constraint = m.addConstrs((x.sum(c,s) >= 0 for c in companies for s in sections), name='positive_constraint')"
      ],
      "metadata": {
        "id": "U6F24e0fsoqR"
      },
      "execution_count": 187,
      "outputs": []
    },
    {
      "cell_type": "code",
      "source": [
        "#Setting the objective function\n",
        "m.setObjective(x.prod(ctr)*2.4, GRB.MAXIMIZE)"
      ],
      "metadata": {
        "id": "N7JCMlHqt-bW"
      },
      "execution_count": 188,
      "outputs": []
    },
    {
      "cell_type": "code",
      "source": [
        "#Optimizing the model and obtaining the solution\n",
        "\n",
        "m.write('RAP.lp')\n",
        "\n",
        "m.optimize()\n",
        "\n",
        "#print(m.display())"
      ],
      "metadata": {
        "colab": {
          "base_uri": "https://localhost:8080/"
        },
        "id": "fuLEYLO1pGh8",
        "outputId": "1945af77-f6f2-4efb-f189-8b0d739ccd54"
      },
      "execution_count": 189,
      "outputs": [
        {
          "output_type": "stream",
          "name": "stdout",
          "text": [
            "Gurobi Optimizer version 9.5.1 build v9.5.1rc2 (linux64)\n",
            "Thread count: 1 physical cores, 2 logical processors, using up to 2 threads\n",
            "Optimize a model with 18 rows, 8 columns and 27 nonzeros\n",
            "Model fingerprint: 0xa131361d\n",
            "Coefficient statistics:\n",
            "  Matrix range     [1e+00, 1e+00]\n",
            "  Objective range  [2e-02, 7e-02]\n",
            "  Bounds range     [0e+00, 0e+00]\n",
            "  RHS range        [1e+06, 6e+06]\n",
            "Presolve removed 13 rows and 1 columns\n",
            "Presolve time: 0.01s\n",
            "Presolved: 5 rows, 7 columns, 13 nonzeros\n",
            "\n",
            "Iteration    Objective       Primal Inf.    Dual Inf.      Time\n",
            "       0    5.8320000e+05   3.750000e+05   0.000000e+00      0s\n",
            "       3    5.2320000e+05   0.000000e+00   0.000000e+00      0s\n",
            "\n",
            "Solved in 3 iterations and 0.02 seconds (0.00 work units)\n",
            "Optimal objective  5.232000000e+05\n"
          ]
        }
      ]
    },
    {
      "cell_type": "code",
      "source": [
        "print(f'The maximum amount Washington Post can receive is ${m.getObjective().getValue()}\\n') \n",
        "\n",
        "print('\\nThe following are the views to be assigned to each combination: \\n') \n",
        "\n",
        "for c, s in combinations:\n",
        "    print(x[c, s].varName, x[c, s].x)"
      ],
      "metadata": {
        "colab": {
          "base_uri": "https://localhost:8080/"
        },
        "id": "OH-ehPmm8QAO",
        "outputId": "0460b114-ee22-4e9e-fd05-a8e9a5586a42"
      },
      "execution_count": 190,
      "outputs": [
        {
          "output_type": "stream",
          "name": "stdout",
          "text": [
            "The maximum amount Washington Post can receive is $523200.0\n",
            "\n",
            "\n",
            "The following are the views to be assigned to each combination: \n",
            "\n",
            "assign[GEICO,Sports] 3000000.0\n",
            "assign[GEICO,National] 1000000.0\n",
            "assign[Delta,Sports] 1000000.0\n",
            "assign[Delta,National] 1000000.0\n",
            "assign[TMobile,Sports] 1000000.0\n",
            "assign[TMobile,National] 2000000.0\n",
            "assign[CapitalOne,Sports] 1000000.0\n",
            "assign[CapitalOne,National] 1000000.0\n"
          ]
        }
      ]
    },
    {
      "cell_type": "markdown",
      "source": [
        "**Sensitivity Analysis**"
      ],
      "metadata": {
        "id": "SpOfKKMx-V5p"
      }
    },
    {
      "cell_type": "code",
      "source": [
        "x['GEICO','Sports']"
      ],
      "metadata": {
        "colab": {
          "base_uri": "https://localhost:8080/"
        },
        "id": "JYOZo12X-cfJ",
        "outputId": "84ae6ade-1625-4b91-a930-b534079e770e"
      },
      "execution_count": 191,
      "outputs": [
        {
          "output_type": "execute_result",
          "data": {
            "text/plain": [
              "<gurobi.Var assign[GEICO,Sports] (value 3000000.0)>"
            ]
          },
          "metadata": {},
          "execution_count": 191
        }
      ]
    },
    {
      "cell_type": "code",
      "source": [
        "#Recreating the contracts and CTR table using Python multidict with multiple values of CTR\n",
        "i = 0\n",
        "views_optimal = [[],[],[],[],[],[],[]]\n",
        "revenue = [0,0,0,0,0,0,0]\n",
        "geico_ctr_list = np.linspace(0.005,0.035,7)\n",
        "\n",
        "for i_ctr in geico_ctr_list:\n",
        "  print(f'\\n When CTRs for GEICO are {round(i_ctr*100,1)}%')\n",
        "\n",
        "  combinations, views, ctr = gp.multidict({\n",
        "            ('GEICO','Sports'):[2000000,i_ctr],\n",
        "            ('GEICO','National'):[1000000,i_ctr],\n",
        "            ('Delta','Sports'):[0,.02],\n",
        "            ('Delta','National'):[1000000,0.01],\n",
        "            ('TMobile','Sports'):[1000000,0.01],\n",
        "            ('TMobile','National'):[1000000,0.03],\n",
        "            ('CapitalOne','Sports'):[0,0.015],\n",
        "            ('CapitalOne','National'):[0,0.02]\n",
        "  })\n",
        "\n",
        "  # Declare and initialize optimization model\n",
        "  m = gp.Model('RAP')\n",
        "\n",
        "  # Create decision variables for the RAP model\n",
        "  x = m.addVars(combinations, name=\"assign\") \n",
        "\n",
        "  #Creating constraint for maximum possible views for Sports section\n",
        "  sports_max_constraint = m.addConstrs((x.sum('*',s) <= 6000000 for s in ['Sports']), name='sports_max')\n",
        "\n",
        "  #Creating constraint for maximum possible views for National section\n",
        "  national_max_constraint = m.addConstrs((x.sum('*',s) <= 5000000 for s in ['National']), name='national_max')\n",
        "\n",
        "  #Creating constraint on Views for GEICO in Sports section\n",
        "  geico_sports_constraint = m.addConstrs((x.sum(c,s) >= 2000000 for c in ['GEICO'] for s in ['Sports']), name='geico_sports_min')\n",
        "\n",
        "  #Creating constraint on Views for GEICO in National section\n",
        "  geico_national_constraint = m.addConstrs((x.sum(c,s) >= 1000000 for c in ['GEICO'] for s in ['National']), name='geico_national_min')\n",
        "\n",
        "  #Creating constraint on Views for Delta in National section\n",
        "  delta_national_constraint = m.addConstrs((x.sum(c,s) >= 1000000 for c in ['Delta'] for s in ['National']), name='delta_national_min')\n",
        "\n",
        "  #Creating constraint on Total Views for Delta across both sections\n",
        "  delta_total_constraint = m.addConstrs((x.sum(c,'*') >= 2000000 for c in ['Delta']), name='delta_total_min')\n",
        "\n",
        "  #Creating constraint on Views for T-Mobile in Sports section\n",
        "  tmobile_sports_constraint = m.addConstrs((x.sum(c,s) >= 1000000 for c in ['TMobile'] for s in ['Sports']), name='tmobile_sports_min')\n",
        "\n",
        "  #Creating constraint on Views for T-Mobile in National section\n",
        "  tmobile_national_constraint = m.addConstrs((x.sum(c,s) >= 1000000 for c in ['TMobile'] for s in ['National']), name='tmobile_national_min')\n",
        "\n",
        "  #Creating constraint on Total Views for T-Mobile across both sections\n",
        "  tmobile_total_constraint = m.addConstrs((x.sum(c,'*') >= 3000000 for c in ['TMobile']), name='tmobile_total_min')\n",
        "\n",
        "  #Creating constraint on Total Views for Capital One across both sections\n",
        "  capitalone_total_constraint = m.addConstrs((x.sum(c,'*') >= 2000000 for c in ['CapitalOne']), name='capitalone_total_min')\n",
        "\n",
        "  #Adding constraint that all the values should be >= 0\n",
        "  positive_constraint = m.addConstrs((x.sum(c,s) >= 0 for c in companies for s in sections), name='positive_constraint')\n",
        "\n",
        "  #Setting the objective function\n",
        "  m.setObjective(x.prod(ctr)*2.4, GRB.MAXIMIZE)\n",
        "\n",
        "  #Optimizing the model and obtaining the solution\n",
        "  m.write('RAP.lp')\n",
        "  m.optimize()\n",
        "\n",
        "  print(f'The maximum amount Washington Post can receive with GEICO CTR {round(i_ctr*100,1)}% is ${m.getObjective().getValue()}\\n') \n",
        "\n",
        "  print(f'\\nThe following are the views to be assigned to each combination with GEICO CTR {round(i_ctr*100,1)}% : \\n') \n",
        "\n",
        "  for c, s in combinations:\n",
        "      print(x[c, s].varName, x[c, s].x)\n",
        "      views_optimal[i].append(x[c, s].x)\n",
        "  revenue[i] = m.getObjective().getValue()\n",
        "  i = i+1\n"
      ],
      "metadata": {
        "colab": {
          "base_uri": "https://localhost:8080/"
        },
        "id": "FYYOeF0FBQwi",
        "outputId": "471c839b-afb0-4a4a-96b7-bca384fa981d"
      },
      "execution_count": 192,
      "outputs": [
        {
          "output_type": "stream",
          "name": "stdout",
          "text": [
            "\n",
            " When CTRs for GEICO are 0.5%\n",
            "Gurobi Optimizer version 9.5.1 build v9.5.1rc2 (linux64)\n",
            "Thread count: 1 physical cores, 2 logical processors, using up to 2 threads\n",
            "Optimize a model with 18 rows, 8 columns and 27 nonzeros\n",
            "Model fingerprint: 0x740a8196\n",
            "Coefficient statistics:\n",
            "  Matrix range     [1e+00, 1e+00]\n",
            "  Objective range  [1e-02, 7e-02]\n",
            "  Bounds range     [0e+00, 0e+00]\n",
            "  RHS range        [1e+06, 6e+06]\n",
            "Presolve removed 13 rows and 2 columns\n",
            "Presolve time: 0.02s\n",
            "Presolved: 5 rows, 6 columns, 12 nonzeros\n",
            "\n",
            "Iteration    Objective       Primal Inf.    Dual Inf.      Time\n",
            "       0    4.4400000e+05   2.500000e+05   0.000000e+00      0s\n",
            "       1    4.2000000e+05   0.000000e+00   0.000000e+00      0s\n",
            "\n",
            "Solved in 1 iterations and 0.03 seconds (0.00 work units)\n",
            "Optimal objective  4.200000000e+05\n",
            "The maximum amount Washington Post can receive with GEICO CTR 0.5% is $420000.0\n",
            "\n",
            "\n",
            "The following are the views to be assigned to each combination with GEICO CTR 0.5% : \n",
            "\n",
            "assign[GEICO,Sports] 2000000.0\n",
            "assign[GEICO,National] 1000000.0\n",
            "assign[Delta,Sports] 1000000.0\n",
            "assign[Delta,National] 1000000.0\n",
            "assign[TMobile,Sports] 1000000.0\n",
            "assign[TMobile,National] 3000000.0\n",
            "assign[CapitalOne,Sports] 2000000.0\n",
            "assign[CapitalOne,National] 0.0\n",
            "\n",
            " When CTRs for GEICO are 1.0%\n",
            "Gurobi Optimizer version 9.5.1 build v9.5.1rc2 (linux64)\n",
            "Thread count: 1 physical cores, 2 logical processors, using up to 2 threads\n",
            "Optimize a model with 18 rows, 8 columns and 27 nonzeros\n",
            "Model fingerprint: 0xb99282a4\n",
            "Coefficient statistics:\n",
            "  Matrix range     [1e+00, 1e+00]\n",
            "  Objective range  [2e-02, 7e-02]\n",
            "  Bounds range     [0e+00, 0e+00]\n",
            "  RHS range        [1e+06, 6e+06]\n",
            "Presolve removed 13 rows and 2 columns\n",
            "Presolve time: 0.01s\n",
            "Presolved: 5 rows, 6 columns, 12 nonzeros\n",
            "\n",
            "Iteration    Objective       Primal Inf.    Dual Inf.      Time\n",
            "       0    4.8000000e+05   2.500000e+05   0.000000e+00      0s\n",
            "       1    4.5600000e+05   0.000000e+00   0.000000e+00      0s\n",
            "\n",
            "Solved in 1 iterations and 0.02 seconds (0.00 work units)\n",
            "Optimal objective  4.560000000e+05\n",
            "The maximum amount Washington Post can receive with GEICO CTR 1.0% is $456000.0\n",
            "\n",
            "\n",
            "The following are the views to be assigned to each combination with GEICO CTR 1.0% : \n",
            "\n",
            "assign[GEICO,Sports] 2000000.0\n",
            "assign[GEICO,National] 1000000.0\n",
            "assign[Delta,Sports] 1000000.0\n",
            "assign[Delta,National] 1000000.0\n",
            "assign[TMobile,Sports] 1000000.0\n",
            "assign[TMobile,National] 3000000.0\n",
            "assign[CapitalOne,Sports] 2000000.0\n",
            "assign[CapitalOne,National] 0.0\n",
            "\n",
            " When CTRs for GEICO are 1.5%\n",
            "Gurobi Optimizer version 9.5.1 build v9.5.1rc2 (linux64)\n",
            "Thread count: 1 physical cores, 2 logical processors, using up to 2 threads\n",
            "Optimize a model with 18 rows, 8 columns and 27 nonzeros\n",
            "Model fingerprint: 0x4ea0ece1\n",
            "Coefficient statistics:\n",
            "  Matrix range     [1e+00, 1e+00]\n",
            "  Objective range  [2e-02, 7e-02]\n",
            "  Bounds range     [0e+00, 0e+00]\n",
            "  RHS range        [1e+06, 6e+06]\n",
            "Presolve removed 13 rows and 2 columns\n",
            "Presolve time: 0.01s\n",
            "Presolved: 5 rows, 6 columns, 12 nonzeros\n",
            "\n",
            "Iteration    Objective       Primal Inf.    Dual Inf.      Time\n",
            "       0    5.1600000e+05   2.500000e+05   0.000000e+00      0s\n",
            "       1    4.9200000e+05   0.000000e+00   0.000000e+00      0s\n",
            "\n",
            "Solved in 1 iterations and 0.01 seconds (0.00 work units)\n",
            "Optimal objective  4.920000000e+05\n",
            "The maximum amount Washington Post can receive with GEICO CTR 1.5% is $492000.0\n",
            "\n",
            "\n",
            "The following are the views to be assigned to each combination with GEICO CTR 1.5% : \n",
            "\n",
            "assign[GEICO,Sports] 2000000.0\n",
            "assign[GEICO,National] 1000000.0\n",
            "assign[Delta,Sports] 1000000.0\n",
            "assign[Delta,National] 1000000.0\n",
            "assign[TMobile,Sports] 1000000.0\n",
            "assign[TMobile,National] 3000000.0\n",
            "assign[CapitalOne,Sports] 2000000.0\n",
            "assign[CapitalOne,National] 0.0\n",
            "\n",
            " When CTRs for GEICO are 2.0%\n",
            "Gurobi Optimizer version 9.5.1 build v9.5.1rc2 (linux64)\n",
            "Thread count: 1 physical cores, 2 logical processors, using up to 2 threads\n",
            "Optimize a model with 18 rows, 8 columns and 27 nonzeros\n",
            "Model fingerprint: 0x6ea58e9d\n",
            "Coefficient statistics:\n",
            "  Matrix range     [1e+00, 1e+00]\n",
            "  Objective range  [2e-02, 7e-02]\n",
            "  Bounds range     [0e+00, 0e+00]\n",
            "  RHS range        [1e+06, 6e+06]\n",
            "Presolve removed 13 rows and 1 columns\n",
            "Presolve time: 0.01s\n",
            "Presolved: 5 rows, 7 columns, 13 nonzeros\n",
            "\n",
            "Iteration    Objective       Primal Inf.    Dual Inf.      Time\n",
            "       0    5.5200000e+05   2.503750e+05   0.000000e+00      0s\n",
            "       2    5.2800000e+05   0.000000e+00   0.000000e+00      0s\n",
            "\n",
            "Solved in 2 iterations and 0.02 seconds (0.00 work units)\n",
            "Optimal objective  5.280000000e+05\n",
            "The maximum amount Washington Post can receive with GEICO CTR 2.0% is $528000.0\n",
            "\n",
            "\n",
            "The following are the views to be assigned to each combination with GEICO CTR 2.0% : \n",
            "\n",
            "assign[GEICO,Sports] 2000000.0\n",
            "assign[GEICO,National] 1000000.0\n",
            "assign[Delta,Sports] 1000000.0\n",
            "assign[Delta,National] 1000000.0\n",
            "assign[TMobile,Sports] 1000000.0\n",
            "assign[TMobile,National] 3000000.0\n",
            "assign[CapitalOne,Sports] 2000000.0\n",
            "assign[CapitalOne,National] 0.0\n",
            "\n",
            " When CTRs for GEICO are 2.5%\n",
            "Gurobi Optimizer version 9.5.1 build v9.5.1rc2 (linux64)\n",
            "Thread count: 1 physical cores, 2 logical processors, using up to 2 threads\n",
            "Optimize a model with 18 rows, 8 columns and 27 nonzeros\n",
            "Model fingerprint: 0x0d7ea3b6\n",
            "Coefficient statistics:\n",
            "  Matrix range     [1e+00, 1e+00]\n",
            "  Objective range  [2e-02, 7e-02]\n",
            "  Bounds range     [0e+00, 0e+00]\n",
            "  RHS range        [1e+06, 6e+06]\n",
            "Presolve removed 13 rows and 1 columns\n",
            "Presolve time: 0.01s\n",
            "Presolved: 5 rows, 7 columns, 13 nonzeros\n",
            "\n",
            "Iteration    Objective       Primal Inf.    Dual Inf.      Time\n",
            "       0    6.2400000e+05   3.750000e+05   0.000000e+00      0s\n",
            "       3    5.6400000e+05   0.000000e+00   0.000000e+00      0s\n",
            "\n",
            "Solved in 3 iterations and 0.02 seconds (0.00 work units)\n",
            "Optimal objective  5.640000000e+05\n",
            "The maximum amount Washington Post can receive with GEICO CTR 2.5% is $564000.0\n",
            "\n",
            "\n",
            "The following are the views to be assigned to each combination with GEICO CTR 2.5% : \n",
            "\n",
            "assign[GEICO,Sports] 3000000.0\n",
            "assign[GEICO,National] 1000000.0\n",
            "assign[Delta,Sports] 1000000.0\n",
            "assign[Delta,National] 1000000.0\n",
            "assign[TMobile,Sports] 1000000.0\n",
            "assign[TMobile,National] 2000000.0\n",
            "assign[CapitalOne,Sports] 1000000.0\n",
            "assign[CapitalOne,National] 1000000.0\n",
            "\n",
            " When CTRs for GEICO are 3.0%\n",
            "Gurobi Optimizer version 9.5.1 build v9.5.1rc2 (linux64)\n",
            "Thread count: 1 physical cores, 2 logical processors, using up to 2 threads\n",
            "Optimize a model with 18 rows, 8 columns and 27 nonzeros\n",
            "Model fingerprint: 0x74e38cf4\n",
            "Coefficient statistics:\n",
            "  Matrix range     [1e+00, 1e+00]\n",
            "  Objective range  [2e-02, 7e-02]\n",
            "  Bounds range     [0e+00, 0e+00]\n",
            "  RHS range        [1e+06, 6e+06]\n",
            "Presolve removed 13 rows and 0 columns\n",
            "Presolve time: 0.01s\n",
            "Presolved: 5 rows, 8 columns, 14 nonzeros\n",
            "\n",
            "Iteration    Objective       Primal Inf.    Dual Inf.      Time\n",
            "       0    6.9600000e+05   3.753750e+05   0.000000e+00      0s\n",
            "       4    6.1200000e+05   0.000000e+00   0.000000e+00      0s\n",
            "\n",
            "Solved in 4 iterations and 0.02 seconds (0.00 work units)\n",
            "Optimal objective  6.120000000e+05\n",
            "The maximum amount Washington Post can receive with GEICO CTR 3.0% is $612000.0\n",
            "\n",
            "\n",
            "The following are the views to be assigned to each combination with GEICO CTR 3.0% : \n",
            "\n",
            "assign[GEICO,Sports] 3000000.0\n",
            "assign[GEICO,National] 1000000.0\n",
            "assign[Delta,Sports] 1000000.0\n",
            "assign[Delta,National] 1000000.0\n",
            "assign[TMobile,Sports] 1000000.0\n",
            "assign[TMobile,National] 2000000.0\n",
            "assign[CapitalOne,Sports] 1000000.0\n",
            "assign[CapitalOne,National] 1000000.0\n",
            "\n",
            " When CTRs for GEICO are 3.5%\n",
            "Gurobi Optimizer version 9.5.1 build v9.5.1rc2 (linux64)\n",
            "Thread count: 1 physical cores, 2 logical processors, using up to 2 threads\n",
            "Optimize a model with 18 rows, 8 columns and 27 nonzeros\n",
            "Model fingerprint: 0xe1ad2799\n",
            "Coefficient statistics:\n",
            "  Matrix range     [1e+00, 1e+00]\n",
            "  Objective range  [2e-02, 8e-02]\n",
            "  Bounds range     [0e+00, 0e+00]\n",
            "  RHS range        [1e+06, 6e+06]\n",
            "Presolve removed 13 rows and 0 columns\n",
            "Presolve time: 0.01s\n",
            "Presolved: 5 rows, 8 columns, 14 nonzeros\n",
            "\n",
            "Iteration    Objective       Primal Inf.    Dual Inf.      Time\n",
            "       0    7.9200000e+05   5.000000e+05   0.000000e+00      0s\n",
            "       4    6.6000000e+05   0.000000e+00   0.000000e+00      0s\n",
            "\n",
            "Solved in 4 iterations and 0.02 seconds (0.00 work units)\n",
            "Optimal objective  6.600000000e+05\n",
            "The maximum amount Washington Post can receive with GEICO CTR 3.5% is $660000.0\n",
            "\n",
            "\n",
            "The following are the views to be assigned to each combination with GEICO CTR 3.5% : \n",
            "\n",
            "assign[GEICO,Sports] 3000000.0\n",
            "assign[GEICO,National] 1000000.0\n",
            "assign[Delta,Sports] 1000000.0\n",
            "assign[Delta,National] 1000000.0\n",
            "assign[TMobile,Sports] 1000000.0\n",
            "assign[TMobile,National] 2000000.0\n",
            "assign[CapitalOne,Sports] 1000000.0\n",
            "assign[CapitalOne,National] 1000000.0\n"
          ]
        }
      ]
    },
    {
      "cell_type": "code",
      "source": [
        "\n",
        "geico_ctr_list = list(geico_ctr_list)\n",
        "# plotting the points\n",
        "plt.plot(geico_ctr_list, revenue)\n",
        " \n",
        "# naming the x axis\n",
        "plt.xlabel('CTRs')\n",
        "# naming the y axis\n",
        "plt.ylabel('Revenue Obtained in $')\n",
        " \n",
        "# giving a title to my graph\n",
        "plt.title('Sensitivity Analysis - GEICO')\n",
        " \n",
        "# function to show the plot\n",
        "plt.show()\n",
        "\n"
      ],
      "metadata": {
        "colab": {
          "base_uri": "https://localhost:8080/",
          "height": 295
        },
        "id": "Weki9DcQzBi5",
        "outputId": "7acacce3-2e81-49bd-d761-ad62be03a1e2"
      },
      "execution_count": 194,
      "outputs": [
        {
          "output_type": "display_data",
          "data": {
            "text/plain": [
              "<Figure size 432x288 with 1 Axes>"
            ],
            "image/png": "[encoded data removed]"
          },
          "metadata": {
            "needs_background": "light"
          }
        }
      ]
    }
  ]
}
